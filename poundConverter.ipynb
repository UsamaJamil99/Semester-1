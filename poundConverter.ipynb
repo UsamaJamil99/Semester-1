{
 "cells": [
  {
   "cell_type": "code",
   "execution_count": 12,
   "id": "09d8fba4",
   "metadata": {},
   "outputs": [
    {
     "name": "stdout",
     "output_type": "stream",
     "text": [
      "Enter the pound you want to convert it to kilogram and gram 5\n",
      "The amount of pound you entered is  5  pound\n",
      "Gram = 2267.96185\n",
      "Kilo Gram = 2.27\n"
     ]
    }
   ],
   "source": [
    "p=int(input(\"Enter the pound you want to convert it to kilogram and gram \"))\n",
    "def pound(p):\n",
    "    g=p*453.59237\n",
    "    k=p*0.454\n",
    "    print(\"The amount of pound you entered is \",p,\" pound\")\n",
    "    print(\"Gram =\",g)\n",
    "    print(\"Kilo Gram =\",k)\n",
    "pound(p)\n",
    "\n"
   ]
  }
 ],
 "metadata": {
  "kernelspec": {
   "display_name": "Python 3",
   "language": "python",
   "name": "python3"
  },
  "language_info": {
   "codemirror_mode": {
    "name": "ipython",
    "version": 3
   },
   "file_extension": ".py",
   "mimetype": "text/x-python",
   "name": "python",
   "nbconvert_exporter": "python",
   "pygments_lexer": "ipython3",
   "version": "3.8.8"
  }
 },
 "nbformat": 4,
 "nbformat_minor": 5
}
